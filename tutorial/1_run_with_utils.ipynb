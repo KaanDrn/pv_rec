{
 "cells": [
  {
   "metadata": {
    "ExecuteTime": {
     "end_time": "2025-10-14T14:58:05.320715Z",
     "start_time": "2025-10-14T14:58:05.318704Z"
    }
   },
   "cell_type": "code",
   "source": [
    "cluster_seed=999\n",
    "test_split_seed=7"
   ],
   "id": "a7978f9418b081e2",
   "outputs": [],
   "execution_count": 14
  },
  {
   "cell_type": "markdown",
   "id": "1",
   "metadata": {},
   "source": [
    "# Load data"
   ]
  },
  {
   "cell_type": "code",
   "id": "2",
   "metadata": {
    "ExecuteTime": {
     "end_time": "2025-10-14T14:58:05.325678Z",
     "start_time": "2025-10-14T14:58:05.323930Z"
    }
   },
   "source": [
    "# Paths\n",
    "wlw_data_path=\"../data/wlw_hildesheim.csv\"\n",
    "mastr_data_path=\"../data/niedersachsen_stromerzeuger_mastr_to_wlw_style.csv\"\n",
    "solar_data_path=\"../data/solar_data_wlw_hildesheim_search_05.csv\""
   ],
   "outputs": [],
   "execution_count": 15
  },
  {
   "cell_type": "code",
   "id": "3",
   "metadata": {
    "ExecuteTime": {
     "end_time": "2025-10-14T14:58:05.332092Z",
     "start_time": "2025-10-14T14:58:05.330273Z"
    }
   },
   "source": [
    "import pandas as pd\n",
    "\n",
    "from sklearn.preprocessing import StandardScaler, MinMaxScaler\n",
    "from sklearn.cluster import KMeans\n",
    "\n",
    "from pv_rec.ml_lib import WlwProductEncoder\n",
    "from pv_rec import data_factory\n",
    "from pv_rec.ml_lib import ProductShelf\n",
    "from pv_rec.recommender import Recommender"
   ],
   "outputs": [],
   "execution_count": 16
  },
  {
   "cell_type": "code",
   "id": "4",
   "metadata": {
    "ExecuteTime": {
     "end_time": "2025-10-14T14:58:05.420632Z",
     "start_time": "2025-10-14T14:58:05.336250Z"
    }
   },
   "source": [
    "data_master=data_factory.DataMaster(mastr_filepath=mastr_data_path,\n",
    "                                    wlw_filepath=wlw_data_path,\n",
    "                                    solar_filepath=solar_data_path\n",
    "                                    )"
   ],
   "outputs": [],
   "execution_count": 17
  },
  {
   "cell_type": "markdown",
   "id": "5",
   "metadata": {},
   "source": [
    "data is stored in attributes of data_master\n",
    "``` python\n",
    "data_master.mastr_data\n",
    "data_master.wlw_data\n",
    "```\n",
    "\n",
    "Test dataset can also be seperated from the mastr data with the \n",
    "`data_master` object."
   ]
  },
  {
   "cell_type": "code",
   "id": "6",
   "metadata": {
    "ExecuteTime": {
     "end_time": "2025-10-14T14:58:05.427911Z",
     "start_time": "2025-10-14T14:58:05.424163Z"
    }
   },
   "source": [
    "data_master.extract_test_data(data_master.mastr_data,\n",
    "                              sample_size=100,\n",
    "                              random_state=test_split_seed\n",
    "                              )"
   ],
   "outputs": [],
   "execution_count": 18
  },
  {
   "cell_type": "markdown",
   "id": "7",
   "metadata": {},
   "source": [
    "There is no need to drop the test data from the mastr data or to assign the \n",
    "test data into a new variable, since the `data_master` object has a \n",
    "`data_mastr.test_data` attribute and the extraction is inplace, hence the \n",
    "data will automatically be dropped from the `data_master.mastr_data` attribute."
   ]
  },
  {
   "cell_type": "markdown",
   "id": "8",
   "metadata": {},
   "source": [
    "# Embedding Products\n",
    "Next we need to embedd the products.\n",
    "But before doing that, we chunk the data, since embedding large datasets can be\n",
    "time consuming."
   ]
  },
  {
   "cell_type": "code",
   "id": "9",
   "metadata": {
    "ExecuteTime": {
     "end_time": "2025-10-14T14:58:05.432635Z",
     "start_time": "2025-10-14T14:58:05.431092Z"
    }
   },
   "source": [
    "all_products=pd.concat(\n",
    "    [\n",
    "        data_master.mastr_data.product_categories,\n",
    "        data_master.wlw_data.product_categories,\n",
    "        ]\n",
    "    )"
   ],
   "outputs": [],
   "execution_count": 19
  },
  {
   "cell_type": "markdown",
   "id": "10",
   "metadata": {},
   "source": [
    "## local run"
   ]
  },
  {
   "cell_type": "code",
   "id": "11",
   "metadata": {
    "ExecuteTime": {
     "end_time": "2025-10-14T14:58:05.438096Z",
     "start_time": "2025-10-14T14:58:05.435968Z"
    }
   },
   "source": [
    "model_name=\"Snowflake/snowflake-arctic-embed-l-v2.0\"\n",
    "encoder=WlwProductEncoder(products=all_products,\n",
    "                          model_name=model_name\n",
    "                          )"
   ],
   "outputs": [],
   "execution_count": 20
  },
  {
   "cell_type": "code",
   "id": "12",
   "metadata": {
    "ExecuteTime": {
     "end_time": "2025-10-14T14:58:24.108108Z",
     "start_time": "2025-10-14T14:58:05.441858Z"
    }
   },
   "source": "embeddings=encoder.embedd_it_local(encoder.products)",
   "outputs": [
    {
     "name": "stdout",
     "output_type": "stream",
     "text": [
      "embedding texts\n"
     ]
    },
    {
     "data": {
      "text/plain": [
       "Batches:   0%|          | 0/122 [00:00<?, ?it/s]"
      ],
      "application/vnd.jupyter.widget-view+json": {
       "version_major": 2,
       "version_minor": 0,
       "model_id": "ce44de8860504dcbb51f31a7e26e7429"
      }
     },
     "metadata": {},
     "output_type": "display_data"
    }
   ],
   "execution_count": 21
  },
  {
   "cell_type": "markdown",
   "id": "13",
   "metadata": {},
   "source": [
    "# Cluster Embeddings"
   ]
  },
  {
   "cell_type": "code",
   "id": "14",
   "metadata": {
    "ExecuteTime": {
     "end_time": "2025-10-14T14:58:24.137460Z",
     "start_time": "2025-10-14T14:58:24.130634Z"
    }
   },
   "source": "embeddings=embeddings.sort_index()",
   "outputs": [],
   "execution_count": 22
  },
  {
   "cell_type": "code",
   "id": "15",
   "metadata": {
    "ExecuteTime": {
     "end_time": "2025-10-14T14:58:24.363972Z",
     "start_time": "2025-10-14T14:58:24.142735Z"
    }
   },
   "source": [
    "shelf=ProductShelf(clustering=KMeans(n_clusters=6,\n",
    "                                     random_state=cluster_seed\n",
    "                                     ),\n",
    "                   scaler=StandardScaler()\n",
    "                   )\n",
    "shelf.fit(embeddings)\n",
    "# response = shelf.cluster_products(embeddings)"
   ],
   "outputs": [],
   "execution_count": 23
  },
  {
   "cell_type": "markdown",
   "id": "17",
   "metadata": {},
   "source": [
    "## Assign Clusters to DataFrames"
   ]
  },
  {
   "cell_type": "code",
   "id": "18",
   "metadata": {
    "ExecuteTime": {
     "end_time": "2025-10-14T14:58:26.475258Z",
     "start_time": "2025-10-14T14:58:24.370691Z"
    }
   },
   "source": [
    "wlw_data=shelf.append_to_df(data_master.wlw_data, embeddings)\n",
    "mastr_data=shelf.append_to_df(data_master.mastr_data, embeddings)"
   ],
   "outputs": [],
   "execution_count": 24
  },
  {
   "cell_type": "code",
   "id": "19",
   "metadata": {
    "ExecuteTime": {
     "end_time": "2025-10-14T14:58:26.499423Z",
     "start_time": "2025-10-14T14:58:26.483815Z"
    }
   },
   "source": [
    "wlw_data"
   ],
   "outputs": [
    {
     "data": {
      "text/plain": [
       "                                  distribution_area employee_count  \\\n",
       "1. GTA GmbH                                National          10-19   \n",
       "74dpi - internetlösungen                      Lokal            1-4   \n",
       "A P A R T A GmbH                           National            1-4   \n",
       "A. Wiethoff Zerspanungstechnik               Europa          10-19   \n",
       "ACCURATA Informationssysteme GmbH          Weltweit            5-9   \n",
       "...                                             ...            ...   \n",
       "webfinisher                                National        unknown   \n",
       "wena³                                      National            1-4   \n",
       "wheels4you GmbH                            National            5-9   \n",
       "Ölkers GmbH                                National            5-9   \n",
       "Übersetzungsbüro Buhre                     Weltweit            1-4   \n",
       "\n",
       "                                   founding_year  installed_power is_producer  \\\n",
       "1. GTA GmbH                                 1986        49.000000        True   \n",
       "74dpi - internetlösungen                    2004        11.300000       False   \n",
       "A P A R T A GmbH                               0        13.800000        True   \n",
       "A. Wiethoff Zerspanungstechnik                 0         0.000000        True   \n",
       "ACCURATA Informationssysteme GmbH              0        84.800000        True   \n",
       "...                                          ...              ...         ...   \n",
       "webfinisher                                    0        12.500000       False   \n",
       "wena³                                          0         0.000000       False   \n",
       "wheels4you GmbH                                0        53.200001       False   \n",
       "Ölkers GmbH                                 2004         6.800000       False   \n",
       "Übersetzungsbüro Buhre                         0         0.000000       False   \n",
       "\n",
       "                                  is_sales is_serviceprovider is_wholesales  \\\n",
       "1. GTA GmbH                           True               True          True   \n",
       "74dpi - internetlösungen             False               True         False   \n",
       "A P A R T A GmbH                     False               True         False   \n",
       "A. Wiethoff Zerspanungstechnik       False               True         False   \n",
       "ACCURATA Informationssysteme GmbH    False               True         False   \n",
       "...                                    ...                ...           ...   \n",
       "webfinisher                          False              False         False   \n",
       "wena³                                False               True         False   \n",
       "wheels4you GmbH                       True               True         False   \n",
       "Ölkers GmbH                          False               True         False   \n",
       "Übersetzungsbüro Buhre               False               True         False   \n",
       "\n",
       "                                   num_modules  \\\n",
       "1. GTA GmbH                                260   \n",
       "74dpi - internetlösungen                    58   \n",
       "A P A R T A GmbH                            71   \n",
       "A. Wiethoff Zerspanungstechnik               0   \n",
       "ACCURATA Informationssysteme GmbH          437   \n",
       "...                                        ...   \n",
       "webfinisher                                 65   \n",
       "wena³                                        0   \n",
       "wheels4you GmbH                            273   \n",
       "Ölkers GmbH                                 35   \n",
       "Übersetzungsbüro Buhre                       0   \n",
       "\n",
       "                                                                  product_categories  \\\n",
       "1. GTA GmbH                        {CNC-Frästeile aus Aluminium, Stanzteile aus M...   \n",
       "74dpi - internetlösungen           {Web-Design, Suchmaschinenmarketing (SEA/SEM),...   \n",
       "A P A R T A GmbH                   {Schwerlastregale, Lagerregale, Industrieregal...   \n",
       "A. Wiethoff Zerspanungstechnik     {Formdrehteile, Verzahnung im Lohn, Drehteile ...   \n",
       "ACCURATA Informationssysteme GmbH  {Entwicklung von Software, Datenbank-Software,...   \n",
       "...                                                                              ...   \n",
       "webfinisher                                                                       {}   \n",
       "wena³                              {3-D Animation, 3-D Werbefilme, Architekturvis...   \n",
       "wheels4you GmbH                    {Lkw-Reifen, Reifen für Motorräder, Reifen für...   \n",
       "Ölkers GmbH                        {CNC-Metallbearbeitung, CNC-Dreharbeiten im Lo...   \n",
       "Übersetzungsbüro Buhre             {Übersetzungsdienste-Deutsch, Übersetzungsdien...   \n",
       "\n",
       "                                   product_label_0  product_label_5  \\\n",
       "1. GTA GmbH                                    4.0              2.0   \n",
       "74dpi - internetlösungen                       0.0              0.0   \n",
       "A P A R T A GmbH                               0.0              4.0   \n",
       "A. Wiethoff Zerspanungstechnik                 3.0              2.0   \n",
       "ACCURATA Informationssysteme GmbH              1.0              0.0   \n",
       "...                                            ...              ...   \n",
       "webfinisher                                    NaN              NaN   \n",
       "wena³                                          0.0              1.0   \n",
       "wheels4you GmbH                                2.0              4.0   \n",
       "Ölkers GmbH                                    4.0              0.0   \n",
       "Übersetzungsbüro Buhre                         0.0              0.0   \n",
       "\n",
       "                                   product_label_4  product_label_3  \\\n",
       "1. GTA GmbH                                    0.0              0.0   \n",
       "74dpi - internetlösungen                       5.0              0.0   \n",
       "A P A R T A GmbH                               0.0              2.0   \n",
       "A. Wiethoff Zerspanungstechnik                 1.0              0.0   \n",
       "ACCURATA Informationssysteme GmbH              4.0              1.0   \n",
       "...                                            ...              ...   \n",
       "webfinisher                                    NaN              NaN   \n",
       "wena³                                          2.0              3.0   \n",
       "wheels4you GmbH                                0.0              0.0   \n",
       "Ölkers GmbH                                    0.0              0.0   \n",
       "Übersetzungsbüro Buhre                         6.0              0.0   \n",
       "\n",
       "                                   product_label_2  product_label_1  \n",
       "1. GTA GmbH                                    0.0              0.0  \n",
       "74dpi - internetlösungen                       0.0              0.0  \n",
       "A P A R T A GmbH                               0.0              0.0  \n",
       "A. Wiethoff Zerspanungstechnik                 0.0              0.0  \n",
       "ACCURATA Informationssysteme GmbH              0.0              0.0  \n",
       "...                                            ...              ...  \n",
       "webfinisher                                    NaN              NaN  \n",
       "wena³                                          0.0              0.0  \n",
       "wheels4you GmbH                                0.0              0.0  \n",
       "Ölkers GmbH                                    0.0              0.0  \n",
       "Übersetzungsbüro Buhre                         0.0              0.0  \n",
       "\n",
       "[659 rows x 16 columns]"
      ],
      "text/html": [
       "<div>\n",
       "<style scoped>\n",
       "    .dataframe tbody tr th:only-of-type {\n",
       "        vertical-align: middle;\n",
       "    }\n",
       "\n",
       "    .dataframe tbody tr th {\n",
       "        vertical-align: top;\n",
       "    }\n",
       "\n",
       "    .dataframe thead th {\n",
       "        text-align: right;\n",
       "    }\n",
       "</style>\n",
       "<table border=\"1\" class=\"dataframe\">\n",
       "  <thead>\n",
       "    <tr style=\"text-align: right;\">\n",
       "      <th></th>\n",
       "      <th>distribution_area</th>\n",
       "      <th>employee_count</th>\n",
       "      <th>founding_year</th>\n",
       "      <th>installed_power</th>\n",
       "      <th>is_producer</th>\n",
       "      <th>is_sales</th>\n",
       "      <th>is_serviceprovider</th>\n",
       "      <th>is_wholesales</th>\n",
       "      <th>num_modules</th>\n",
       "      <th>product_categories</th>\n",
       "      <th>product_label_0</th>\n",
       "      <th>product_label_5</th>\n",
       "      <th>product_label_4</th>\n",
       "      <th>product_label_3</th>\n",
       "      <th>product_label_2</th>\n",
       "      <th>product_label_1</th>\n",
       "    </tr>\n",
       "  </thead>\n",
       "  <tbody>\n",
       "    <tr>\n",
       "      <th>1. GTA GmbH</th>\n",
       "      <td>National</td>\n",
       "      <td>10-19</td>\n",
       "      <td>1986</td>\n",
       "      <td>49.000000</td>\n",
       "      <td>True</td>\n",
       "      <td>True</td>\n",
       "      <td>True</td>\n",
       "      <td>True</td>\n",
       "      <td>260</td>\n",
       "      <td>{CNC-Frästeile aus Aluminium, Stanzteile aus M...</td>\n",
       "      <td>4.0</td>\n",
       "      <td>2.0</td>\n",
       "      <td>0.0</td>\n",
       "      <td>0.0</td>\n",
       "      <td>0.0</td>\n",
       "      <td>0.0</td>\n",
       "    </tr>\n",
       "    <tr>\n",
       "      <th>74dpi - internetlösungen</th>\n",
       "      <td>Lokal</td>\n",
       "      <td>1-4</td>\n",
       "      <td>2004</td>\n",
       "      <td>11.300000</td>\n",
       "      <td>False</td>\n",
       "      <td>False</td>\n",
       "      <td>True</td>\n",
       "      <td>False</td>\n",
       "      <td>58</td>\n",
       "      <td>{Web-Design, Suchmaschinenmarketing (SEA/SEM),...</td>\n",
       "      <td>0.0</td>\n",
       "      <td>0.0</td>\n",
       "      <td>5.0</td>\n",
       "      <td>0.0</td>\n",
       "      <td>0.0</td>\n",
       "      <td>0.0</td>\n",
       "    </tr>\n",
       "    <tr>\n",
       "      <th>A P A R T A GmbH</th>\n",
       "      <td>National</td>\n",
       "      <td>1-4</td>\n",
       "      <td>0</td>\n",
       "      <td>13.800000</td>\n",
       "      <td>True</td>\n",
       "      <td>False</td>\n",
       "      <td>True</td>\n",
       "      <td>False</td>\n",
       "      <td>71</td>\n",
       "      <td>{Schwerlastregale, Lagerregale, Industrieregal...</td>\n",
       "      <td>0.0</td>\n",
       "      <td>4.0</td>\n",
       "      <td>0.0</td>\n",
       "      <td>2.0</td>\n",
       "      <td>0.0</td>\n",
       "      <td>0.0</td>\n",
       "    </tr>\n",
       "    <tr>\n",
       "      <th>A. Wiethoff Zerspanungstechnik</th>\n",
       "      <td>Europa</td>\n",
       "      <td>10-19</td>\n",
       "      <td>0</td>\n",
       "      <td>0.000000</td>\n",
       "      <td>True</td>\n",
       "      <td>False</td>\n",
       "      <td>True</td>\n",
       "      <td>False</td>\n",
       "      <td>0</td>\n",
       "      <td>{Formdrehteile, Verzahnung im Lohn, Drehteile ...</td>\n",
       "      <td>3.0</td>\n",
       "      <td>2.0</td>\n",
       "      <td>1.0</td>\n",
       "      <td>0.0</td>\n",
       "      <td>0.0</td>\n",
       "      <td>0.0</td>\n",
       "    </tr>\n",
       "    <tr>\n",
       "      <th>ACCURATA Informationssysteme GmbH</th>\n",
       "      <td>Weltweit</td>\n",
       "      <td>5-9</td>\n",
       "      <td>0</td>\n",
       "      <td>84.800000</td>\n",
       "      <td>True</td>\n",
       "      <td>False</td>\n",
       "      <td>True</td>\n",
       "      <td>False</td>\n",
       "      <td>437</td>\n",
       "      <td>{Entwicklung von Software, Datenbank-Software,...</td>\n",
       "      <td>1.0</td>\n",
       "      <td>0.0</td>\n",
       "      <td>4.0</td>\n",
       "      <td>1.0</td>\n",
       "      <td>0.0</td>\n",
       "      <td>0.0</td>\n",
       "    </tr>\n",
       "    <tr>\n",
       "      <th>...</th>\n",
       "      <td>...</td>\n",
       "      <td>...</td>\n",
       "      <td>...</td>\n",
       "      <td>...</td>\n",
       "      <td>...</td>\n",
       "      <td>...</td>\n",
       "      <td>...</td>\n",
       "      <td>...</td>\n",
       "      <td>...</td>\n",
       "      <td>...</td>\n",
       "      <td>...</td>\n",
       "      <td>...</td>\n",
       "      <td>...</td>\n",
       "      <td>...</td>\n",
       "      <td>...</td>\n",
       "      <td>...</td>\n",
       "    </tr>\n",
       "    <tr>\n",
       "      <th>webfinisher</th>\n",
       "      <td>National</td>\n",
       "      <td>unknown</td>\n",
       "      <td>0</td>\n",
       "      <td>12.500000</td>\n",
       "      <td>False</td>\n",
       "      <td>False</td>\n",
       "      <td>False</td>\n",
       "      <td>False</td>\n",
       "      <td>65</td>\n",
       "      <td>{}</td>\n",
       "      <td>NaN</td>\n",
       "      <td>NaN</td>\n",
       "      <td>NaN</td>\n",
       "      <td>NaN</td>\n",
       "      <td>NaN</td>\n",
       "      <td>NaN</td>\n",
       "    </tr>\n",
       "    <tr>\n",
       "      <th>wena³</th>\n",
       "      <td>National</td>\n",
       "      <td>1-4</td>\n",
       "      <td>0</td>\n",
       "      <td>0.000000</td>\n",
       "      <td>False</td>\n",
       "      <td>False</td>\n",
       "      <td>True</td>\n",
       "      <td>False</td>\n",
       "      <td>0</td>\n",
       "      <td>{3-D Animation, 3-D Werbefilme, Architekturvis...</td>\n",
       "      <td>0.0</td>\n",
       "      <td>1.0</td>\n",
       "      <td>2.0</td>\n",
       "      <td>3.0</td>\n",
       "      <td>0.0</td>\n",
       "      <td>0.0</td>\n",
       "    </tr>\n",
       "    <tr>\n",
       "      <th>wheels4you GmbH</th>\n",
       "      <td>National</td>\n",
       "      <td>5-9</td>\n",
       "      <td>0</td>\n",
       "      <td>53.200001</td>\n",
       "      <td>False</td>\n",
       "      <td>True</td>\n",
       "      <td>True</td>\n",
       "      <td>False</td>\n",
       "      <td>273</td>\n",
       "      <td>{Lkw-Reifen, Reifen für Motorräder, Reifen für...</td>\n",
       "      <td>2.0</td>\n",
       "      <td>4.0</td>\n",
       "      <td>0.0</td>\n",
       "      <td>0.0</td>\n",
       "      <td>0.0</td>\n",
       "      <td>0.0</td>\n",
       "    </tr>\n",
       "    <tr>\n",
       "      <th>Ölkers GmbH</th>\n",
       "      <td>National</td>\n",
       "      <td>5-9</td>\n",
       "      <td>2004</td>\n",
       "      <td>6.800000</td>\n",
       "      <td>False</td>\n",
       "      <td>False</td>\n",
       "      <td>True</td>\n",
       "      <td>False</td>\n",
       "      <td>35</td>\n",
       "      <td>{CNC-Metallbearbeitung, CNC-Dreharbeiten im Lo...</td>\n",
       "      <td>4.0</td>\n",
       "      <td>0.0</td>\n",
       "      <td>0.0</td>\n",
       "      <td>0.0</td>\n",
       "      <td>0.0</td>\n",
       "      <td>0.0</td>\n",
       "    </tr>\n",
       "    <tr>\n",
       "      <th>Übersetzungsbüro Buhre</th>\n",
       "      <td>Weltweit</td>\n",
       "      <td>1-4</td>\n",
       "      <td>0</td>\n",
       "      <td>0.000000</td>\n",
       "      <td>False</td>\n",
       "      <td>False</td>\n",
       "      <td>True</td>\n",
       "      <td>False</td>\n",
       "      <td>0</td>\n",
       "      <td>{Übersetzungsdienste-Deutsch, Übersetzungsdien...</td>\n",
       "      <td>0.0</td>\n",
       "      <td>0.0</td>\n",
       "      <td>6.0</td>\n",
       "      <td>0.0</td>\n",
       "      <td>0.0</td>\n",
       "      <td>0.0</td>\n",
       "    </tr>\n",
       "  </tbody>\n",
       "</table>\n",
       "<p>659 rows × 16 columns</p>\n",
       "</div>"
      ]
     },
     "execution_count": 25,
     "metadata": {},
     "output_type": "execute_result"
    }
   ],
   "execution_count": 25
  },
  {
   "cell_type": "markdown",
   "id": "20",
   "metadata": {},
   "source": [
    "# Hierarchical Clustering of Companies"
   ]
  },
  {
   "cell_type": "code",
   "id": "21",
   "metadata": {
    "ExecuteTime": {
     "end_time": "2025-10-14T14:58:26.509578Z",
     "start_time": "2025-10-14T14:58:26.507926Z"
    }
   },
   "source": "recommender_obj=Recommender()",
   "outputs": [],
   "execution_count": 26
  },
  {
   "cell_type": "code",
   "id": "22",
   "metadata": {
    "ExecuteTime": {
     "end_time": "2025-10-14T14:58:28.506908Z",
     "start_time": "2025-10-14T14:58:26.513255Z"
    }
   },
   "source": [
    "affinity_scores=recommender_obj.fit(wlw_data=wlw_data.copy(),\n",
    "                                    mastr_data=mastr_data.copy(),\n",
    "                                    method=\"ward\",\n",
    "                                    metric=\"euclidean\",\n",
    "                                    )"
   ],
   "outputs": [
    {
     "name": "stdout",
     "output_type": "stream",
     "text": [
      "\u001B[2m2025-10-14 16:58:26\u001B[0m [\u001B[32m\u001B[1minfo     \u001B[0m] \u001B[1mPreparing data                \u001B[0m\n",
      "\u001B[2m2025-10-14 16:58:26\u001B[0m [\u001B[32m\u001B[1minfo     \u001B[0m] \u001B[1mMap categorical data          \u001B[0m\n",
      "\u001B[2m2025-10-14 16:58:26\u001B[0m [\u001B[32m\u001B[1minfo     \u001B[0m] \u001B[1mhandle NaNs                   \u001B[0m\n",
      "\u001B[2m2025-10-14 16:58:26\u001B[0m [\u001B[32m\u001B[1minfo     \u001B[0m] \u001B[1mScaling data                  \u001B[0m\n",
      "\u001B[2m2025-10-14 16:58:26\u001B[0m [\u001B[32m\u001B[1minfo     \u001B[0m] \u001B[1mcreate linkage tree           \u001B[0m\n",
      "\u001B[2m2025-10-14 16:58:28\u001B[0m [\u001B[32m\u001B[1minfo     \u001B[0m] \u001B[1mGet cluster labels            \u001B[0m\n",
      "\u001B[2m2025-10-14 16:58:28\u001B[0m [\u001B[32m\u001B[1minfo     \u001B[0m] \u001B[1mGet number of Mastr companies in clusters\u001B[0m\n",
      "\u001B[2m2025-10-14 16:58:28\u001B[0m [\u001B[32m\u001B[1minfo     \u001B[0m] \u001B[1mGet PV affinity scores        \u001B[0m\n",
      "\u001B[2m2025-10-14 16:58:28\u001B[0m [\u001B[32m\u001B[1minfo     \u001B[0m] \u001B[1mModel fitted                  \u001B[0m \u001B[36mduration\u001B[0m=\u001B[35m1.9896209239959717\u001B[0m\n",
      "\u001B[2m2025-10-14 16:58:28\u001B[0m [\u001B[32m\u001B[1minfo     \u001B[0m] \u001B[1mStore column schema           \u001B[0m\n",
      "\u001B[2m2025-10-14 16:58:28\u001B[0m [\u001B[32m\u001B[1minfo     \u001B[0m] \u001B[1mget all feature averages for clusters\u001B[0m\n"
     ]
    }
   ],
   "execution_count": 27
  },
  {
   "cell_type": "code",
   "id": "23",
   "metadata": {
    "ExecuteTime": {
     "end_time": "2025-10-14T14:58:28.525959Z",
     "start_time": "2025-10-14T14:58:28.520139Z"
    }
   },
   "source": [
    "affinity_scores"
   ],
   "outputs": [
    {
     "data": {
      "text/plain": [
       "            total_companies  mastr_data   percent\n",
       "cluster_52              7.0         3.0  0.428571\n",
       "cluster_23             55.0        29.0  0.527273\n",
       "cluster_18             32.0        16.0  0.500000\n",
       "cluster_3               6.0         6.0  1.000000\n",
       "cluster_19             30.0        14.0  0.466667\n",
       "cluster_5              39.0         7.0  0.179487\n",
       "cluster_27             18.0         9.0  0.500000\n",
       "cluster_21             28.0        14.0  0.500000\n",
       "cluster_4              17.0         2.0  0.117647\n",
       "cluster_24             23.0        23.0  1.000000\n",
       "cluster_47             19.0         6.0  0.315789\n",
       "cluster_8              52.0        13.0  0.250000\n",
       "cluster_22             22.0        13.0  0.590909\n",
       "cluster_28             12.0         9.0  0.750000\n",
       "cluster_49             12.0         8.0  0.666667\n",
       "cluster_9              52.0        12.0  0.230769\n",
       "cluster_11            174.0        57.0  0.327586\n",
       "cluster_53             15.0        10.0  0.666667\n",
       "cluster_14             28.0        15.0  0.535714\n",
       "cluster_58             11.0         8.0  0.727273\n",
       "cluster_31              6.0         5.0  0.833333\n",
       "cluster_25             12.0         8.0  0.666667\n",
       "cluster_56             15.0        14.0  0.933333\n",
       "cluster_54              7.0         5.0  0.714286\n",
       "cluster_2              23.0         7.0  0.304348\n",
       "cluster_20             13.0         4.0  0.307692\n",
       "cluster_46             10.0         1.0  0.100000\n",
       "cluster_35             20.0         9.0  0.450000\n",
       "cluster_40             10.0         3.0  0.300000\n",
       "cluster_44             26.0         2.0  0.076923\n",
       "cluster_7              79.0        18.0  0.227848\n",
       "cluster_26             19.0        17.0  0.894737\n",
       "cluster_13             26.0        23.0  0.884615\n",
       "cluster_43             35.0        19.0  0.542857\n",
       "cluster_60             13.0         8.0  0.615385\n",
       "cluster_10             26.0        12.0  0.461538\n",
       "cluster_55             35.0        20.0  0.571429\n",
       "cluster_45             12.0         4.0  0.333333\n",
       "cluster_1              13.0         8.0  0.615385\n",
       "cluster_39              5.0         1.0  0.200000\n",
       "cluster_29             15.0        12.0  0.800000\n",
       "cluster_16             21.0         7.0  0.333333\n",
       "cluster_6               5.0         5.0  1.000000\n",
       "cluster_42             12.0         3.0  0.250000\n",
       "cluster_15             13.0        13.0  1.000000\n",
       "cluster_36             11.0         2.0  0.181818\n",
       "cluster_17             13.0         9.0  0.692308\n",
       "cluster_32             20.0        13.0  0.650000\n",
       "cluster_37              7.0         4.0  0.571429\n",
       "cluster_34             15.0         9.0  0.600000\n",
       "cluster_41              2.0         2.0  1.000000\n",
       "cluster_59              5.0         3.0  0.600000\n",
       "cluster_51              7.0         7.0  1.000000\n",
       "cluster_33              3.0         1.0  0.333333\n",
       "cluster_30              4.0         4.0  1.000000\n",
       "cluster_12              1.0         1.0  1.000000\n",
       "cluster_38              4.0         1.0  0.250000\n",
       "cluster_48              2.0         2.0  1.000000\n",
       "cluster_57              2.0         2.0  1.000000\n",
       "cluster_50              1.0         1.0  1.000000"
      ],
      "text/html": [
       "<div>\n",
       "<style scoped>\n",
       "    .dataframe tbody tr th:only-of-type {\n",
       "        vertical-align: middle;\n",
       "    }\n",
       "\n",
       "    .dataframe tbody tr th {\n",
       "        vertical-align: top;\n",
       "    }\n",
       "\n",
       "    .dataframe thead th {\n",
       "        text-align: right;\n",
       "    }\n",
       "</style>\n",
       "<table border=\"1\" class=\"dataframe\">\n",
       "  <thead>\n",
       "    <tr style=\"text-align: right;\">\n",
       "      <th></th>\n",
       "      <th>total_companies</th>\n",
       "      <th>mastr_data</th>\n",
       "      <th>percent</th>\n",
       "    </tr>\n",
       "  </thead>\n",
       "  <tbody>\n",
       "    <tr>\n",
       "      <th>cluster_52</th>\n",
       "      <td>7.0</td>\n",
       "      <td>3.0</td>\n",
       "      <td>0.428571</td>\n",
       "    </tr>\n",
       "    <tr>\n",
       "      <th>cluster_23</th>\n",
       "      <td>55.0</td>\n",
       "      <td>29.0</td>\n",
       "      <td>0.527273</td>\n",
       "    </tr>\n",
       "    <tr>\n",
       "      <th>cluster_18</th>\n",
       "      <td>32.0</td>\n",
       "      <td>16.0</td>\n",
       "      <td>0.500000</td>\n",
       "    </tr>\n",
       "    <tr>\n",
       "      <th>cluster_3</th>\n",
       "      <td>6.0</td>\n",
       "      <td>6.0</td>\n",
       "      <td>1.000000</td>\n",
       "    </tr>\n",
       "    <tr>\n",
       "      <th>cluster_19</th>\n",
       "      <td>30.0</td>\n",
       "      <td>14.0</td>\n",
       "      <td>0.466667</td>\n",
       "    </tr>\n",
       "    <tr>\n",
       "      <th>cluster_5</th>\n",
       "      <td>39.0</td>\n",
       "      <td>7.0</td>\n",
       "      <td>0.179487</td>\n",
       "    </tr>\n",
       "    <tr>\n",
       "      <th>cluster_27</th>\n",
       "      <td>18.0</td>\n",
       "      <td>9.0</td>\n",
       "      <td>0.500000</td>\n",
       "    </tr>\n",
       "    <tr>\n",
       "      <th>cluster_21</th>\n",
       "      <td>28.0</td>\n",
       "      <td>14.0</td>\n",
       "      <td>0.500000</td>\n",
       "    </tr>\n",
       "    <tr>\n",
       "      <th>cluster_4</th>\n",
       "      <td>17.0</td>\n",
       "      <td>2.0</td>\n",
       "      <td>0.117647</td>\n",
       "    </tr>\n",
       "    <tr>\n",
       "      <th>cluster_24</th>\n",
       "      <td>23.0</td>\n",
       "      <td>23.0</td>\n",
       "      <td>1.000000</td>\n",
       "    </tr>\n",
       "    <tr>\n",
       "      <th>cluster_47</th>\n",
       "      <td>19.0</td>\n",
       "      <td>6.0</td>\n",
       "      <td>0.315789</td>\n",
       "    </tr>\n",
       "    <tr>\n",
       "      <th>cluster_8</th>\n",
       "      <td>52.0</td>\n",
       "      <td>13.0</td>\n",
       "      <td>0.250000</td>\n",
       "    </tr>\n",
       "    <tr>\n",
       "      <th>cluster_22</th>\n",
       "      <td>22.0</td>\n",
       "      <td>13.0</td>\n",
       "      <td>0.590909</td>\n",
       "    </tr>\n",
       "    <tr>\n",
       "      <th>cluster_28</th>\n",
       "      <td>12.0</td>\n",
       "      <td>9.0</td>\n",
       "      <td>0.750000</td>\n",
       "    </tr>\n",
       "    <tr>\n",
       "      <th>cluster_49</th>\n",
       "      <td>12.0</td>\n",
       "      <td>8.0</td>\n",
       "      <td>0.666667</td>\n",
       "    </tr>\n",
       "    <tr>\n",
       "      <th>cluster_9</th>\n",
       "      <td>52.0</td>\n",
       "      <td>12.0</td>\n",
       "      <td>0.230769</td>\n",
       "    </tr>\n",
       "    <tr>\n",
       "      <th>cluster_11</th>\n",
       "      <td>174.0</td>\n",
       "      <td>57.0</td>\n",
       "      <td>0.327586</td>\n",
       "    </tr>\n",
       "    <tr>\n",
       "      <th>cluster_53</th>\n",
       "      <td>15.0</td>\n",
       "      <td>10.0</td>\n",
       "      <td>0.666667</td>\n",
       "    </tr>\n",
       "    <tr>\n",
       "      <th>cluster_14</th>\n",
       "      <td>28.0</td>\n",
       "      <td>15.0</td>\n",
       "      <td>0.535714</td>\n",
       "    </tr>\n",
       "    <tr>\n",
       "      <th>cluster_58</th>\n",
       "      <td>11.0</td>\n",
       "      <td>8.0</td>\n",
       "      <td>0.727273</td>\n",
       "    </tr>\n",
       "    <tr>\n",
       "      <th>cluster_31</th>\n",
       "      <td>6.0</td>\n",
       "      <td>5.0</td>\n",
       "      <td>0.833333</td>\n",
       "    </tr>\n",
       "    <tr>\n",
       "      <th>cluster_25</th>\n",
       "      <td>12.0</td>\n",
       "      <td>8.0</td>\n",
       "      <td>0.666667</td>\n",
       "    </tr>\n",
       "    <tr>\n",
       "      <th>cluster_56</th>\n",
       "      <td>15.0</td>\n",
       "      <td>14.0</td>\n",
       "      <td>0.933333</td>\n",
       "    </tr>\n",
       "    <tr>\n",
       "      <th>cluster_54</th>\n",
       "      <td>7.0</td>\n",
       "      <td>5.0</td>\n",
       "      <td>0.714286</td>\n",
       "    </tr>\n",
       "    <tr>\n",
       "      <th>cluster_2</th>\n",
       "      <td>23.0</td>\n",
       "      <td>7.0</td>\n",
       "      <td>0.304348</td>\n",
       "    </tr>\n",
       "    <tr>\n",
       "      <th>cluster_20</th>\n",
       "      <td>13.0</td>\n",
       "      <td>4.0</td>\n",
       "      <td>0.307692</td>\n",
       "    </tr>\n",
       "    <tr>\n",
       "      <th>cluster_46</th>\n",
       "      <td>10.0</td>\n",
       "      <td>1.0</td>\n",
       "      <td>0.100000</td>\n",
       "    </tr>\n",
       "    <tr>\n",
       "      <th>cluster_35</th>\n",
       "      <td>20.0</td>\n",
       "      <td>9.0</td>\n",
       "      <td>0.450000</td>\n",
       "    </tr>\n",
       "    <tr>\n",
       "      <th>cluster_40</th>\n",
       "      <td>10.0</td>\n",
       "      <td>3.0</td>\n",
       "      <td>0.300000</td>\n",
       "    </tr>\n",
       "    <tr>\n",
       "      <th>cluster_44</th>\n",
       "      <td>26.0</td>\n",
       "      <td>2.0</td>\n",
       "      <td>0.076923</td>\n",
       "    </tr>\n",
       "    <tr>\n",
       "      <th>cluster_7</th>\n",
       "      <td>79.0</td>\n",
       "      <td>18.0</td>\n",
       "      <td>0.227848</td>\n",
       "    </tr>\n",
       "    <tr>\n",
       "      <th>cluster_26</th>\n",
       "      <td>19.0</td>\n",
       "      <td>17.0</td>\n",
       "      <td>0.894737</td>\n",
       "    </tr>\n",
       "    <tr>\n",
       "      <th>cluster_13</th>\n",
       "      <td>26.0</td>\n",
       "      <td>23.0</td>\n",
       "      <td>0.884615</td>\n",
       "    </tr>\n",
       "    <tr>\n",
       "      <th>cluster_43</th>\n",
       "      <td>35.0</td>\n",
       "      <td>19.0</td>\n",
       "      <td>0.542857</td>\n",
       "    </tr>\n",
       "    <tr>\n",
       "      <th>cluster_60</th>\n",
       "      <td>13.0</td>\n",
       "      <td>8.0</td>\n",
       "      <td>0.615385</td>\n",
       "    </tr>\n",
       "    <tr>\n",
       "      <th>cluster_10</th>\n",
       "      <td>26.0</td>\n",
       "      <td>12.0</td>\n",
       "      <td>0.461538</td>\n",
       "    </tr>\n",
       "    <tr>\n",
       "      <th>cluster_55</th>\n",
       "      <td>35.0</td>\n",
       "      <td>20.0</td>\n",
       "      <td>0.571429</td>\n",
       "    </tr>\n",
       "    <tr>\n",
       "      <th>cluster_45</th>\n",
       "      <td>12.0</td>\n",
       "      <td>4.0</td>\n",
       "      <td>0.333333</td>\n",
       "    </tr>\n",
       "    <tr>\n",
       "      <th>cluster_1</th>\n",
       "      <td>13.0</td>\n",
       "      <td>8.0</td>\n",
       "      <td>0.615385</td>\n",
       "    </tr>\n",
       "    <tr>\n",
       "      <th>cluster_39</th>\n",
       "      <td>5.0</td>\n",
       "      <td>1.0</td>\n",
       "      <td>0.200000</td>\n",
       "    </tr>\n",
       "    <tr>\n",
       "      <th>cluster_29</th>\n",
       "      <td>15.0</td>\n",
       "      <td>12.0</td>\n",
       "      <td>0.800000</td>\n",
       "    </tr>\n",
       "    <tr>\n",
       "      <th>cluster_16</th>\n",
       "      <td>21.0</td>\n",
       "      <td>7.0</td>\n",
       "      <td>0.333333</td>\n",
       "    </tr>\n",
       "    <tr>\n",
       "      <th>cluster_6</th>\n",
       "      <td>5.0</td>\n",
       "      <td>5.0</td>\n",
       "      <td>1.000000</td>\n",
       "    </tr>\n",
       "    <tr>\n",
       "      <th>cluster_42</th>\n",
       "      <td>12.0</td>\n",
       "      <td>3.0</td>\n",
       "      <td>0.250000</td>\n",
       "    </tr>\n",
       "    <tr>\n",
       "      <th>cluster_15</th>\n",
       "      <td>13.0</td>\n",
       "      <td>13.0</td>\n",
       "      <td>1.000000</td>\n",
       "    </tr>\n",
       "    <tr>\n",
       "      <th>cluster_36</th>\n",
       "      <td>11.0</td>\n",
       "      <td>2.0</td>\n",
       "      <td>0.181818</td>\n",
       "    </tr>\n",
       "    <tr>\n",
       "      <th>cluster_17</th>\n",
       "      <td>13.0</td>\n",
       "      <td>9.0</td>\n",
       "      <td>0.692308</td>\n",
       "    </tr>\n",
       "    <tr>\n",
       "      <th>cluster_32</th>\n",
       "      <td>20.0</td>\n",
       "      <td>13.0</td>\n",
       "      <td>0.650000</td>\n",
       "    </tr>\n",
       "    <tr>\n",
       "      <th>cluster_37</th>\n",
       "      <td>7.0</td>\n",
       "      <td>4.0</td>\n",
       "      <td>0.571429</td>\n",
       "    </tr>\n",
       "    <tr>\n",
       "      <th>cluster_34</th>\n",
       "      <td>15.0</td>\n",
       "      <td>9.0</td>\n",
       "      <td>0.600000</td>\n",
       "    </tr>\n",
       "    <tr>\n",
       "      <th>cluster_41</th>\n",
       "      <td>2.0</td>\n",
       "      <td>2.0</td>\n",
       "      <td>1.000000</td>\n",
       "    </tr>\n",
       "    <tr>\n",
       "      <th>cluster_59</th>\n",
       "      <td>5.0</td>\n",
       "      <td>3.0</td>\n",
       "      <td>0.600000</td>\n",
       "    </tr>\n",
       "    <tr>\n",
       "      <th>cluster_51</th>\n",
       "      <td>7.0</td>\n",
       "      <td>7.0</td>\n",
       "      <td>1.000000</td>\n",
       "    </tr>\n",
       "    <tr>\n",
       "      <th>cluster_33</th>\n",
       "      <td>3.0</td>\n",
       "      <td>1.0</td>\n",
       "      <td>0.333333</td>\n",
       "    </tr>\n",
       "    <tr>\n",
       "      <th>cluster_30</th>\n",
       "      <td>4.0</td>\n",
       "      <td>4.0</td>\n",
       "      <td>1.000000</td>\n",
       "    </tr>\n",
       "    <tr>\n",
       "      <th>cluster_12</th>\n",
       "      <td>1.0</td>\n",
       "      <td>1.0</td>\n",
       "      <td>1.000000</td>\n",
       "    </tr>\n",
       "    <tr>\n",
       "      <th>cluster_38</th>\n",
       "      <td>4.0</td>\n",
       "      <td>1.0</td>\n",
       "      <td>0.250000</td>\n",
       "    </tr>\n",
       "    <tr>\n",
       "      <th>cluster_48</th>\n",
       "      <td>2.0</td>\n",
       "      <td>2.0</td>\n",
       "      <td>1.000000</td>\n",
       "    </tr>\n",
       "    <tr>\n",
       "      <th>cluster_57</th>\n",
       "      <td>2.0</td>\n",
       "      <td>2.0</td>\n",
       "      <td>1.000000</td>\n",
       "    </tr>\n",
       "    <tr>\n",
       "      <th>cluster_50</th>\n",
       "      <td>1.0</td>\n",
       "      <td>1.0</td>\n",
       "      <td>1.000000</td>\n",
       "    </tr>\n",
       "  </tbody>\n",
       "</table>\n",
       "</div>"
      ]
     },
     "execution_count": 28,
     "metadata": {},
     "output_type": "execute_result"
    }
   ],
   "execution_count": 28
  },
  {
   "cell_type": "markdown",
   "id": "24",
   "metadata": {},
   "source": [
    " # Show results"
   ]
  },
  {
   "cell_type": "code",
   "id": "25",
   "metadata": {
    "ExecuteTime": {
     "end_time": "2025-10-14T14:58:29.153772Z",
     "start_time": "2025-10-14T14:58:28.547125Z"
    }
   },
   "source": [
    "recommender_obj.plot()"
   ],
   "outputs": [
    {
     "data": {
      "text/plain": [
       "<Figure size 1200x700 with 2 Axes>"
      ],
      "image/png": "[encoded data removed]"
     },
     "metadata": {},
     "output_type": "display_data"
    }
   ],
   "execution_count": 29
  },
  {
   "cell_type": "markdown",
   "id": "26",
   "metadata": {},
   "source": [
    " # Recommend to new companies"
   ]
  },
  {
   "cell_type": "markdown",
   "id": "27",
   "metadata": {},
   "source": [
    "## Embedd Test Data products"
   ]
  },
  {
   "cell_type": "code",
   "id": "28",
   "metadata": {
    "ExecuteTime": {
     "end_time": "2025-10-14T14:58:29.160162Z",
     "start_time": "2025-10-14T14:58:29.158457Z"
    }
   },
   "source": [
    "# flatten products in test data\n",
    "flat_test_products=sorted([\n",
    "    item for sublist in data_master.test_data.product_categories\n",
    "    for item in sublist\n",
    "    ]\n",
    "    )"
   ],
   "outputs": [],
   "execution_count": 30
  },
  {
   "cell_type": "code",
   "id": "29",
   "metadata": {
    "ExecuteTime": {
     "end_time": "2025-10-14T14:58:29.173531Z",
     "start_time": "2025-10-14T14:58:29.171825Z"
    }
   },
   "source": "encoder.products=flat_test_products",
   "outputs": [],
   "execution_count": 31
  },
  {
   "cell_type": "code",
   "id": "30",
   "metadata": {
    "ExecuteTime": {
     "end_time": "2025-10-14T14:58:30.592194Z",
     "start_time": "2025-10-14T14:58:29.190789Z"
    }
   },
   "source": [
    "test_embeddings=encoder.embedd_it_local(\n",
    "    encoder.products\n",
    "    )"
   ],
   "outputs": [
    {
     "name": "stdout",
     "output_type": "stream",
     "text": [
      "embedding texts\n"
     ]
    },
    {
     "data": {
      "text/plain": [
       "Batches:   0%|          | 0/20 [00:00<?, ?it/s]"
      ],
      "application/vnd.jupyter.widget-view+json": {
       "version_major": 2,
       "version_minor": 0,
       "model_id": "043c3117d8954257b02f406d577e47ef"
      }
     },
     "metadata": {},
     "output_type": "display_data"
    }
   ],
   "execution_count": 32
  },
  {
   "cell_type": "markdown",
   "id": "31",
   "metadata": {},
   "source": [
    "## Append embedding clusters to test data"
   ]
  },
  {
   "cell_type": "code",
   "id": "32",
   "metadata": {
    "ExecuteTime": {
     "end_time": "2025-10-14T14:58:30.782883Z",
     "start_time": "2025-10-14T14:58:30.594730Z"
    }
   },
   "source": "test_data=shelf.append_to_df(data_master.test_data, test_embeddings)",
   "outputs": [],
   "execution_count": 33
  },
  {
   "cell_type": "markdown",
   "id": "33",
   "metadata": {},
   "source": [
    "## Assign affinity scores to test data"
   ]
  },
  {
   "cell_type": "code",
   "id": "34",
   "metadata": {
    "ExecuteTime": {
     "end_time": "2025-10-14T14:58:30.812165Z",
     "start_time": "2025-10-14T14:58:30.793539Z"
    }
   },
   "source": "test_affinity_scores, company_results=recommender_obj.recommend(test_data)",
   "outputs": [
    {
     "name": "stdout",
     "output_type": "stream",
     "text": [
      "\u001B[2m2025-10-14 16:58:30\u001B[0m [\u001B[32m\u001B[1minfo     \u001B[0m] \u001B[1mmap categorical data          \u001B[0m\n",
      "\u001B[2m2025-10-14 16:58:30\u001B[0m [\u001B[32m\u001B[1minfo     \u001B[0m] \u001B[1mhandle nans                   \u001B[0m\n",
      "\u001B[2m2025-10-14 16:58:30\u001B[0m [\u001B[32m\u001B[1minfo     \u001B[0m] \u001B[1mset columns in correct order  \u001B[0m\n",
      "\u001B[2m2025-10-14 16:58:30\u001B[0m [\u001B[32m\u001B[1minfo     \u001B[0m] \u001B[1mscale data                    \u001B[0m\n",
      "\u001B[2m2025-10-14 16:58:30\u001B[0m [\u001B[32m\u001B[1minfo     \u001B[0m] \u001B[1mGet closest cluster to new data\u001B[0m\n"
     ]
    }
   ],
   "execution_count": 34
  },
  {
   "cell_type": "markdown",
   "id": "35",
   "metadata": {},
   "source": [
    "# Calc recall value"
   ]
  },
  {
   "cell_type": "code",
   "id": "36",
   "metadata": {
    "ExecuteTime": {
     "end_time": "2025-10-14T14:58:30.824908Z",
     "start_time": "2025-10-14T14:58:30.823382Z"
    }
   },
   "source": "recall_value=recommender_obj.recall(test_affinity_scores)",
   "outputs": [],
   "execution_count": 35
  },
  {
   "cell_type": "markdown",
   "id": "37",
   "metadata": {},
   "source": [
    "## Show recall histogram"
   ]
  },
  {
   "cell_type": "code",
   "id": "38",
   "metadata": {
    "ExecuteTime": {
     "end_time": "2025-10-14T14:58:30.885788Z",
     "start_time": "2025-10-14T14:58:30.836643Z"
    }
   },
   "source": [
    "recommender_obj.plot_recall(pv_affinity=test_affinity_scores,\n",
    "                            recall=recall_value,\n",
    "                            ax=None\n",
    "                            )"
   ],
   "outputs": [
    {
     "data": {
      "text/plain": [
       "<Figure size 800x500 with 1 Axes>"
      ],
      "image/png": "[encoded data removed]"
     },
     "metadata": {},
     "output_type": "display_data"
    }
   ],
   "execution_count": 36
  },
  {
   "metadata": {
    "ExecuteTime": {
     "end_time": "2025-10-14T14:58:30.917885Z",
     "start_time": "2025-10-14T14:58:30.916625Z"
    }
   },
   "cell_type": "code",
   "source": "",
   "id": "ac80b14f3ccbea07",
   "outputs": [],
   "execution_count": null
  },
  {
   "metadata": {
    "ExecuteTime": {
     "end_time": "2025-10-14T14:58:30.936452Z",
     "start_time": "2025-10-14T14:58:30.935100Z"
    }
   },
   "cell_type": "code",
   "source": "",
   "id": "63fba64c639fb366",
   "outputs": [],
   "execution_count": null
  }
 ],
 "metadata": {
  "kernelspec": {
   "display_name": "Python 3",
   "language": "python",
   "name": "python3"
  },
  "language_info": {
   "codemirror_mode": {
    "name": "ipython",
    "version": 2
   },
   "file_extension": ".py",
   "mimetype": "text/x-python",
   "name": "python",
   "nbconvert_exporter": "python",
   "pygments_lexer": "ipython2"
  }
 },
 "nbformat": 4,
 "nbformat_minor": 5
}
